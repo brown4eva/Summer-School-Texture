{
 "cells": [
  {
   "cell_type": "markdown",
   "id": "35ce9dfc",
   "metadata": {},
   "source": [
    "### Needed libraries"
   ]
  },
  {
   "cell_type": "code",
   "execution_count": null,
   "id": "7eb16c80",
   "metadata": {},
   "outputs": [],
   "source": [
    "import rawpy\n",
    "import numpy as np\n",
    "import pandas as pd\n",
    "import matplotlib.pyplot as plt\n",
    "from pathlib import Path\n",
    "# Set plot style\n",
    "plt.style.use('seaborn-deep')\n",
    "\n",
    "# Directory containing RAW images\n",
    "raw_dir = Path('./')\n",
    "\n",
    "# Output Excel file\n",
    "output_excel = 'mean_rgb_values_center.xlsx'\n",
    "\n",
    "# Create empty DataFrame to store RGB values\n",
    "data = pd.DataFrame(columns=['Image', 'Red', 'Green', 'Blue'])\n",
    "\n",
    "def process_raw_image(file_path: Path) -> tuple:\n",
    "    \"\"\"Reads a RAW image and returns mean RGB values from its center.\"\"\"\n",
    "    try:\n",
    "        with rawpy.imread(str(file_path)) as raw:\n",
    "            rgb = raw.postprocess(gamma=(1, 1), no_auto_bright=True, output_bps=8)\n",
    "            h, w = rgb.shape[:2]\n",
    "            center_crop = rgb[h//2 - 500:h//2 + 500, w//2 - 500:w//2 + 500]\n",
    "            mean_r = np.mean(center_crop[:, :, 0]) / 1000\n",
    "            mean_g = np.mean(center_crop[:, :, 1]) / 1000\n",
    "            mean_b = np.mean(center_crop[:, :, 2]) / 1000\n",
    "            return mean_r, mean_g, mean_b\n",
    "    except Exception as e:\n",
    "        print(f\"Error processing {file_path.name}: {e}\")\n",
    "        return None, None, None\n",
    "\n",
    "# Process images and collect RGB data\n",
    "for i in range(1283, 1322):\n",
    "    file_path = raw_dir / f'DSC_{i}.NEF'\n",
    "    if file_path.exists():\n",
    "        r, g, b = process_raw_image(file_path)\n",
    "        if r is not None:\n",
    "            data.loc[len(data)] = {'Image': i, 'Red': r, 'Green': g, 'Blue': b}\n",
    "    else:\n",
    "        print(f\"File not found: {file_path}\")\n",
    "# Save RGB data to Excel\n",
    "data.to_excel(output_excel, index=False)\n",
    "print(f\"Saved mean RGB values to {output_excel}\")\n",
    "\n",
    "# --- Plotting ---\n",
    "# Load processed data\n",
    "df = pd.read_excel('./mean_rgb_values_center.xlsx')\n",
    "\n",
    "# Plot spectral response\n",
    "df.plot(kind='line', x='Bands nm')\n",
    "plt.title('Recovered Nikon D850 Spectral Sensitivity')\n",
    "plt.xlabel('Wavelength (nm)')\n",
    "plt.ylabel('Relative Intensity')\n",
    "plt.grid(True)\n",
    "plt.tight_layout()\n",
    "plt.show()"
   ]
  },
  {
   "cell_type": "code",
   "execution_count": null,
   "id": "caba8efd",
   "metadata": {},
   "outputs": [],
   "source": []
  }
 ],
 "metadata": {
  "kernelspec": {
   "display_name": "Python 3",
   "language": "python",
   "name": "python3"
  },
  "language_info": {
   "codemirror_mode": {
    "name": "ipython",
    "version": 3
   },
   "file_extension": ".py",
   "mimetype": "text/x-python",
   "name": "python",
   "nbconvert_exporter": "python",
   "pygments_lexer": "ipython3",
   "version": "3.11.4"
  }
 },
 "nbformat": 4,
 "nbformat_minor": 5
}
