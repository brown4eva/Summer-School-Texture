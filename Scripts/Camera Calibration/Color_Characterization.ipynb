{
 "cells": [
  {
   "cell_type": "markdown",
   "id": "35ce9dfc",
   "metadata": {},
   "source": [
    "### Needed libraries"
   ]
  },
  {
   "cell_type": "code",
   "execution_count": null,
   "id": "7eb16c80",
   "metadata": {},
   "outputs": [
    {
     "ename": "ValueError",
     "evalue": "numpy.dtype size changed, may indicate binary incompatibility. Expected 96 from C header, got 88 from PyObject",
     "output_type": "error",
     "traceback": [
      "\u001b[1;31m---------------------------------------------------------------------------\u001b[0m",
      "\u001b[1;31mValueError\u001b[0m                                Traceback (most recent call last)",
      "Cell \u001b[1;32mIn[2], line 1\u001b[0m\n\u001b[1;32m----> 1\u001b[0m \u001b[38;5;28;01mimport\u001b[39;00m \u001b[38;5;21;01mrawpy\u001b[39;00m\n\u001b[0;32m      2\u001b[0m \u001b[38;5;28;01mimport\u001b[39;00m \u001b[38;5;21;01mnumpy\u001b[39;00m \u001b[38;5;28;01mas\u001b[39;00m \u001b[38;5;21;01mnp\u001b[39;00m\n\u001b[0;32m      3\u001b[0m \u001b[38;5;28;01mimport\u001b[39;00m \u001b[38;5;21;01mpandas\u001b[39;00m \u001b[38;5;28;01mas\u001b[39;00m \u001b[38;5;21;01mpd\u001b[39;00m\n",
      "File \u001b[1;32mc:\\Users\\utilisateur\\AppData\\Local\\Programs\\Python\\Python311\\Lib\\site-packages\\rawpy\\__init__.py:5\u001b[0m\n\u001b[0;32m      1\u001b[0m \u001b[38;5;28;01mfrom\u001b[39;00m \u001b[38;5;21;01m__future__\u001b[39;00m \u001b[38;5;28;01mimport\u001b[39;00m absolute_import\n\u001b[0;32m      3\u001b[0m \u001b[38;5;28;01mfrom\u001b[39;00m \u001b[38;5;21;01m.\u001b[39;00m\u001b[38;5;21;01m_version\u001b[39;00m \u001b[38;5;28;01mimport\u001b[39;00m __version__\n\u001b[1;32m----> 5\u001b[0m \u001b[38;5;28;01mimport\u001b[39;00m \u001b[38;5;21;01mrawpy\u001b[39;00m\u001b[38;5;21;01m.\u001b[39;00m\u001b[38;5;21;01m_rawpy\u001b[39;00m\n\u001b[0;32m      6\u001b[0m \u001b[38;5;28mglobals\u001b[39m()\u001b[38;5;241m.\u001b[39mupdate({k:v \u001b[38;5;28;01mfor\u001b[39;00m k,v \u001b[38;5;129;01min\u001b[39;00m rawpy\u001b[38;5;241m.\u001b[39m_rawpy\u001b[38;5;241m.\u001b[39m\u001b[38;5;18m__dict__\u001b[39m\u001b[38;5;241m.\u001b[39mitems() \u001b[38;5;28;01mif\u001b[39;00m \u001b[38;5;129;01mnot\u001b[39;00m k\u001b[38;5;241m.\u001b[39mstartswith(\u001b[38;5;124m'\u001b[39m\u001b[38;5;124m_\u001b[39m\u001b[38;5;124m'\u001b[39m)})\n\u001b[0;32m      8\u001b[0m \u001b[38;5;28;01mdef\u001b[39;00m \u001b[38;5;21mimread\u001b[39m(pathOrFile):\n",
      "File \u001b[1;32mrawpy\\_rawpy.pyx:1\u001b[0m, in \u001b[0;36minit rawpy._rawpy\u001b[1;34m()\u001b[0m\n",
      "\u001b[1;31mValueError\u001b[0m: numpy.dtype size changed, may indicate binary incompatibility. Expected 96 from C header, got 88 from PyObject"
     ]
    }
   ],
   "source": [
    "import rawpy\n",
    "import numpy as np\n",
    "import pandas as pd\n",
    "import matplotlib.pyplot as plt\n",
    "from pathlib import Path\n",
    "# Set plot style\n",
    "# plt.style.use('seaborn-deep')\n",
    "\n",
    "# Directory containing RAW images\n",
    "raw_dir = Path('./')\n",
    "\n",
    "# Output Excel file\n",
    "output_excel = 'mean_rgb_values_center.xlsx'\n",
    "\n",
    "# Create empty DataFrame to store RGB values\n",
    "data = pd.DataFrame(columns=['Image', 'Red', 'Green', 'Blue'])\n",
    "\n",
    "def process_raw_image(file_path: Path) -> tuple:\n",
    "    \"\"\"Reads a RAW image and returns mean RGB values from its center.\"\"\"\n",
    "    try:\n",
    "        with rawpy.imread(str(file_path)) as raw:\n",
    "            rgb = raw.postprocess(gamma=(1, 1), no_auto_bright=True, output_bps=8)\n",
    "            h, w = rgb.shape[:2]\n",
    "            center_crop = rgb[h//2 - 500:h//2 + 500, w//2 - 500:w//2 + 500]\n",
    "            mean_r = np.mean(center_crop[:, :, 0]) / 1000\n",
    "            mean_g = np.mean(center_crop[:, :, 1]) / 1000\n",
    "            mean_b = np.mean(center_crop[:, :, 2]) / 1000\n",
    "            return mean_r, mean_g, mean_b\n",
    "    except Exception as e:\n",
    "        print(f\"Error processing {file_path.name}: {e}\")\n",
    "        return None, None, None\n",
    "\n",
    "# Process images and collect RGB data\n",
    "for i in range(360, 751, 10):\n",
    "    file_path = raw_dir / f'{i}.NEF'\n",
    "    if file_path.exists():\n",
    "        r, g, b = process_raw_image(file_path)\n",
    "        if r is not None:\n",
    "            data.loc[len(data)] = {'Image': i, 'Red': r, 'Green': g, 'Blue': b}\n",
    "    else:\n",
    "        print(f\"File not found: {file_path}\")\n",
    "# Save RGB data to Excel\n",
    "data.to_excel(output_excel, index=False)\n",
    "print(f\"Saved mean RGB values to {output_excel}\")\n",
    "\n",
    "# --- Plotting ---\n",
    "# Load processed data\n",
    "df = pd.read_excel('./mean_rgb_values_center.xlsx')\n",
    "\n",
    "# Plot spectral response\n",
    "# df.plot(kind='line', x='Bands nm')\n",
    "plt.plot(df.Image, df.Red, color='red', lw = 2, alpha = 0.5, label= 'red')\n",
    "plt.plot(df.Image, df.Green, color='green', lw = 2, alpha = 0.5, label= 'green')\n",
    "plt.plot(df.Image, df.Blue, color='blue', lw = 2, alpha = 0.5, label= 'blue')\n",
    "plt.title('Recovered Nikon D850 Spectral Sensitivity')\n",
    "plt.xlabel('Wavelength (nm)')\n",
    "plt.ylabel('Relative Intensity')\n",
    "plt.grid(True)\n",
    "plt.tight_layout()\n",
    "plt.show()"
   ]
  },
  {
   "cell_type": "code",
   "execution_count": null,
   "id": "caba8efd",
   "metadata": {},
   "outputs": [],
   "source": []
  }
 ],
 "metadata": {
  "kernelspec": {
   "display_name": "Python 3",
   "language": "python",
   "name": "python3"
  },
  "language_info": {
   "codemirror_mode": {
    "name": "ipython",
    "version": 3
   },
   "file_extension": ".py",
   "mimetype": "text/x-python",
   "name": "python",
   "nbconvert_exporter": "python",
   "pygments_lexer": "ipython3",
   "version": "3.11.4"
  }
 },
 "nbformat": 4,
 "nbformat_minor": 5
}
